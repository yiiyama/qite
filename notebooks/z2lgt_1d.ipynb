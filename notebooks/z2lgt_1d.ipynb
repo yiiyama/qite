{
 "cells": [
  {
   "cell_type": "code",
   "execution_count": 1,
   "id": "9f636628",
   "metadata": {},
   "outputs": [],
   "source": [
    "import sys\n",
    "import os\n",
    "import logging\n",
    "import numpy as np\n",
    "import matplotlib.pyplot as plt\n",
    "import jax\n",
    "\n",
    "os.environ['CUDA_VISIBLE_DEVICES'] = '0'\n",
    "jax.config.update('jax_enable_x64', True)\n",
    "\n",
    "sys.path.append('/home/iiyama/src/qite')\n",
    "from qite.qite import qite\n",
    "from qite.z2lgt_1d import hamiltonian, domain_of\n",
    "\n",
    "logging.basicConfig(level=logging.WARNING)\n",
    "logging.getLogger('qite.qite').setLevel(logging.INFO)"
   ]
  },
  {
   "cell_type": "code",
   "execution_count": 2,
   "id": "4be7f6d9",
   "metadata": {},
   "outputs": [
    {
     "name": "stderr",
     "output_type": "stream",
     "text": [
      "INFO:qite.qite:QITE step 0\n",
      "INFO:qite.qite:QITE step 1\n",
      "INFO:qite.qite:QITE step 2\n",
      "INFO:qite.qite:QITE step 3\n",
      "INFO:qite.qite:QITE step 4\n",
      "INFO:qite.qite:QITE step 5\n",
      "INFO:qite.qite:QITE step 6\n",
      "INFO:qite.qite:QITE step 7\n",
      "INFO:qite.qite:QITE step 8\n",
      "INFO:qite.qite:QITE step 9\n",
      "INFO:qite.qite:QITE step 10\n",
      "INFO:qite.qite:QITE step 11\n",
      "INFO:qite.qite:QITE step 12\n",
      "INFO:qite.qite:QITE step 13\n",
      "INFO:qite.qite:QITE step 14\n",
      "INFO:qite.qite:QITE step 15\n",
      "INFO:qite.qite:QITE step 16\n",
      "INFO:qite.qite:QITE step 17\n",
      "INFO:qite.qite:QITE step 18\n",
      "INFO:qite.qite:QITE step 19\n",
      "INFO:qite.qite:QITE step 20\n",
      "INFO:qite.qite:QITE step 21\n",
      "INFO:qite.qite:QITE step 22\n",
      "INFO:qite.qite:QITE step 23\n",
      "INFO:qite.qite:QITE step 24\n",
      "INFO:qite.qite:QITE step 25\n",
      "INFO:qite.qite:QITE step 26\n",
      "INFO:qite.qite:QITE step 27\n",
      "INFO:qite.qite:QITE step 28\n",
      "INFO:qite.qite:QITE step 29\n",
      "INFO:qite.qite:QITE step 30\n",
      "INFO:qite.qite:QITE step 31\n",
      "INFO:qite.qite:QITE step 32\n",
      "INFO:qite.qite:QITE step 33\n",
      "INFO:qite.qite:QITE step 34\n",
      "INFO:qite.qite:QITE step 35\n",
      "INFO:qite.qite:QITE step 36\n",
      "INFO:qite.qite:QITE step 37\n",
      "INFO:qite.qite:QITE step 38\n",
      "INFO:qite.qite:QITE step 39\n",
      "INFO:qite.qite:QITE step 40\n",
      "INFO:qite.qite:QITE step 41\n",
      "INFO:qite.qite:QITE step 42\n",
      "INFO:qite.qite:QITE step 43\n",
      "INFO:qite.qite:QITE step 44\n",
      "INFO:qite.qite:QITE step 45\n",
      "INFO:qite.qite:QITE step 46\n",
      "INFO:qite.qite:QITE step 47\n",
      "INFO:qite.qite:QITE step 48\n",
      "INFO:qite.qite:QITE step 49\n",
      "INFO:qite.qite:QITE step 50\n",
      "INFO:qite.qite:QITE step 51\n",
      "INFO:qite.qite:QITE step 52\n",
      "INFO:qite.qite:QITE step 53\n",
      "INFO:qite.qite:QITE step 54\n",
      "INFO:qite.qite:QITE step 55\n",
      "INFO:qite.qite:QITE step 56\n",
      "INFO:qite.qite:QITE step 57\n",
      "INFO:qite.qite:QITE step 58\n",
      "INFO:qite.qite:QITE step 59\n",
      "INFO:qite.qite:QITE step 60\n",
      "INFO:qite.qite:QITE step 61\n",
      "INFO:qite.qite:QITE step 62\n",
      "INFO:qite.qite:QITE step 63\n",
      "INFO:qite.qite:QITE step 64\n",
      "INFO:qite.qite:QITE step 65\n",
      "INFO:qite.qite:QITE step 66\n",
      "INFO:qite.qite:QITE step 67\n",
      "INFO:qite.qite:QITE step 68\n",
      "INFO:qite.qite:QITE step 69\n",
      "INFO:qite.qite:QITE step 70\n",
      "INFO:qite.qite:QITE step 71\n",
      "INFO:qite.qite:QITE step 72\n",
      "INFO:qite.qite:QITE step 73\n",
      "INFO:qite.qite:QITE step 74\n",
      "INFO:qite.qite:QITE step 75\n",
      "INFO:qite.qite:QITE step 76\n",
      "INFO:qite.qite:QITE step 77\n",
      "INFO:qite.qite:QITE step 78\n",
      "INFO:qite.qite:QITE step 79\n",
      "INFO:qite.qite:QITE step 80\n",
      "INFO:qite.qite:QITE step 81\n",
      "INFO:qite.qite:QITE step 82\n",
      "INFO:qite.qite:QITE step 83\n",
      "INFO:qite.qite:QITE step 84\n",
      "INFO:qite.qite:QITE step 85\n",
      "INFO:qite.qite:QITE step 86\n",
      "INFO:qite.qite:QITE step 87\n",
      "INFO:qite.qite:QITE step 88\n",
      "INFO:qite.qite:QITE step 89\n",
      "INFO:qite.qite:QITE step 90\n",
      "INFO:qite.qite:QITE step 91\n",
      "INFO:qite.qite:QITE step 92\n",
      "INFO:qite.qite:QITE step 93\n",
      "INFO:qite.qite:QITE step 94\n",
      "INFO:qite.qite:QITE step 95\n",
      "INFO:qite.qite:QITE step 96\n",
      "INFO:qite.qite:QITE step 97\n",
      "INFO:qite.qite:QITE step 98\n",
      "INFO:qite.qite:QITE step 99\n"
     ]
    }
   ],
   "source": [
    "ham = hamiltonian(num_sites=4, mass=0.5, coupling=1.2)\n",
    "\n",
    "# Exactly diagonalize and set the initial state as (|0> + |1>) / sqrt(2)\n",
    "evals, evecs = np.linalg.eigh(ham.to_matrix())\n",
    "initial_state = (evecs[:, 0] + evecs[:, 1]) * np.sqrt(0.5)\n",
    "\n",
    "state, energies = qite(ham, [domain_of(hterm) for hterm in ham], initial_state, delta_beta=0.01,\n",
    "                       num_steps=100, solver_params={'solver': 'minres', 'rtol': 1.e-8})"
   ]
  },
  {
   "cell_type": "code",
   "execution_count": 3,
   "id": "f89afae3",
   "metadata": {},
   "outputs": [
    {
     "name": "stderr",
     "output_type": "stream",
     "text": [
      "/usr/local/lib/python3.12/dist-packages/matplotlib/cbook.py:1719: ComplexWarning: Casting complex values to real discards the imaginary part\n",
      "  return math.isfinite(val)\n",
      "/usr/local/lib/python3.12/dist-packages/matplotlib/cbook.py:1355: ComplexWarning: Casting complex values to real discards the imaginary part\n",
      "  return np.asarray(x, float)\n"
     ]
    },
    {
     "data": {
      "text/plain": [
       "[<matplotlib.lines.Line2D at 0x7c883433fe60>]"
      ]
     },
     "execution_count": 3,
     "metadata": {},
     "output_type": "execute_result"
    },
    {
     "data": {
      "image/png": "[encoded data removed]",
      "text/plain": [
       "<Figure size 640x480 with 1 Axes>"
      ]
     },
     "metadata": {},
     "output_type": "display_data"
    }
   ],
   "source": [
    "plt.plot(energies)"
   ]
  },
  {
   "cell_type": "code",
   "execution_count": null,
   "id": "8e4ac440",
   "metadata": {},
   "outputs": [],
   "source": []
  }
 ],
 "metadata": {
  "kernelspec": {
   "display_name": "Python 3 (ipykernel)",
   "language": "python",
   "name": "python3"
  },
  "language_info": {
   "codemirror_mode": {
    "name": "ipython",
    "version": 3
   },
   "file_extension": ".py",
   "mimetype": "text/x-python",
   "name": "python",
   "nbconvert_exporter": "python",
   "pygments_lexer": "ipython3",
   "version": "3.12.3"
  }
 },
 "nbformat": 4,
 "nbformat_minor": 5
}
